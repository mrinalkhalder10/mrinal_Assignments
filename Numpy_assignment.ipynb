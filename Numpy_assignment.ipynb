{
  "nbformat": 4,
  "nbformat_minor": 0,
  "metadata": {
    "colab": {
      "name": "Numpy_assignment.ipynb",
      "provenance": [],
      "collapsed_sections": [],
      "authorship_tag": "ABX9TyNcMYvSB4+hKYinBDTl//vY",
      "include_colab_link": true
    },
    "kernelspec": {
      "name": "python3",
      "display_name": "Python 3"
    }
  },
  "cells": [
    {
      "cell_type": "markdown",
      "metadata": {
        "id": "view-in-github",
        "colab_type": "text"
      },
      "source": [
        "<a href=\"https://colab.research.google.com/github/mrinalkhalder10/mrinal_Assignments/blob/master/Numpy_assignment.ipynb\" target=\"_parent\"><img src=\"https://colab.research.google.com/assets/colab-badge.svg\" alt=\"Open In Colab\"/></a>"
      ]
    },
    {
      "cell_type": "code",
      "metadata": {
        "id": "WpR4DF76CfBj",
        "colab_type": "code",
        "colab": {}
      },
      "source": [
        ""
      ],
      "execution_count": null,
      "outputs": []
    },
    {
      "cell_type": "markdown",
      "metadata": {
        "id": "RK7bJwWEG2Oy",
        "colab_type": "text"
      },
      "source": [
        "**NUMPY  Assignment**"
      ]
    },
    {
      "cell_type": "markdown",
      "metadata": {
        "id": "mSVwNGetCjyv",
        "colab_type": "text"
      },
      "source": [
        "**Problem Statement 1:** \n",
        "\n",
        "Write a **function** so that the columns of the output matrix are powers of the input\n",
        "vector.\n",
        "The order of the powers is determined by the increasing boolean argument. Specifically, when\n",
        "increasing is False, the i-th output column is the input vector raised element-wise to the power\n",
        "of **N - i - 1**.\n",
        "\n",
        "HINT: Such a matrix with a geometric progression in each row is named for **Alexandre-Theophile Vandermonde**\n",
        " "
      ]
    },
    {
      "cell_type": "code",
      "metadata": {
        "id": "9t1DrVm9DMgl",
        "colab_type": "code",
        "colab": {}
      },
      "source": [
        "import numpy as np\n",
        "\n",
        "def func_vander_matrix(inputvec, N, increasing=False):\n",
        "    import numpy as np\n",
        "    if increasing:\n",
        "        outputvec =np.array([x**(N-i-1) for x in inputvec for i in range(N)]).reshape(inputvec.size,N)\n",
        "    elif not increasing:\n",
        "        outputvec =np.array([x**(i) for x in inputvec for i in range(N)]).reshape(inputvec.size,N)\n",
        "    return outputvec"
      ],
      "execution_count": 1,
      "outputs": []
    },
    {
      "cell_type": "markdown",
      "metadata": {
        "id": "XoX6bF93DrqH",
        "colab_type": "text"
      },
      "source": [
        "**Result :-**"
      ]
    },
    {
      "cell_type": "code",
      "metadata": {
        "id": "e61b5hCJDkpg",
        "colab_type": "code",
        "colab": {
          "base_uri": "https://localhost:8080/",
          "height": 252
        },
        "outputId": "bf183d2c-7d1a-41d3-8982-84e7b99dfaea"
      },
      "source": [
        "inputvec = np.array([1,2,3,4,5])\n",
        "print(\"Decreasing order matrix : \\n\",func_vander_matrix(inputvec,3,False),end=\"\\n\\n\\n\")\n",
        "print(\"Increasing order matrix : \\n\",func_vander_matrix(inputvec,3,True))"
      ],
      "execution_count": 3,
      "outputs": [
        {
          "output_type": "stream",
          "text": [
            "Decreasing order matrix : \n",
            " [[ 1  1  1]\n",
            " [ 1  2  4]\n",
            " [ 1  3  9]\n",
            " [ 1  4 16]\n",
            " [ 1  5 25]]\n",
            "\n",
            "\n",
            "Increasing order matrix : \n",
            " [[ 1  1  1]\n",
            " [ 4  2  1]\n",
            " [ 9  3  1]\n",
            " [16  4  1]\n",
            " [25  5  1]]\n"
          ],
          "name": "stdout"
        }
      ]
    },
    {
      "cell_type": "code",
      "metadata": {
        "id": "4ez_E4FoD2or",
        "colab_type": "code",
        "colab": {}
      },
      "source": [
        ""
      ],
      "execution_count": null,
      "outputs": []
    },
    {
      "cell_type": "markdown",
      "metadata": {
        "id": "AomAhrwOEmXd",
        "colab_type": "text"
      },
      "source": [
        "**Problem Statement 2:**\n",
        "\n",
        "Given a sequence of n values x1, x2, ..., xn and a window size k>0, the k-th moving average of\n",
        "the given sequence is defined as follows:\n",
        "The moving average sequence has n-k+1 elements as shown below.\n",
        "The moving averages with k=4 of a ten-value sequence (n=10) is shown below\n",
        "\n",
        "i 1 2 3 4 5 6 7 8 9 10\n",
        "\n",
        "===== == == == == == == == == == ==\n",
        "\n",
        "Input 10 20 30 40 50 60 70 80 90 100\n",
        "\n",
        "y1 25 = (10+20+30+40)/4\n",
        "\n",
        "y2 35 = (20+30+40+50)/4\n",
        "\n",
        "y3 45 = (30+40+50+60)/4\n",
        "\n",
        "y4 55 = (40+50+60+70)/4\n",
        "\n",
        "y5 65 = (50+60+70+80)/4\n",
        "\n",
        "y6 75 = (60+70+80+90)/4\n",
        "\n",
        "y7 85 = (70+80+90+100)/4\n",
        "\n",
        "Thus, the moving average sequence has n-k+1=10-4+1=7 values.\n",
        "\n",
        "**Question:** Write a function to find moving average in an array over a window:\n",
        "Test it over [3, 5, 7, 2, 8, 10, 11, 65, 72, 81, 99, 100, 150] and window of 3.\n",
        "\n"
      ]
    },
    {
      "cell_type": "code",
      "metadata": {
        "id": "5BYdp-gSFauc",
        "colab_type": "code",
        "colab": {}
      },
      "source": [
        "def moving_window(a,k):\n",
        "    res = np.cumsum(a, dtype=int)\n",
        "    res[k:] = res[k:] - res[:-k]\n",
        "    n=len(a)\n",
        "    seq_no=n-k+1\n",
        "    print(res[k - 1:] / k,end=\"\\n\\n\")\n",
        "    print(\"moving average sequence value is : \",seq_no)"
      ],
      "execution_count": 13,
      "outputs": []
    },
    {
      "cell_type": "markdown",
      "metadata": {
        "id": "ga-BaXflF2sQ",
        "colab_type": "text"
      },
      "source": [
        "**Result:**"
      ]
    },
    {
      "cell_type": "code",
      "metadata": {
        "id": "3xOsORviF0R2",
        "colab_type": "code",
        "colab": {
          "base_uri": "https://localhost:8080/",
          "height": 218
        },
        "outputId": "edde3a89-d5cc-4b5c-9ec0-f279f7ad8c56"
      },
      "source": [
        "a=[3, 5, 7, 2, 8, 10, 11, 65, 72, 81, 99, 100, 150]\n",
        "b=[10, 20, 30, 40, 50, 60, 70, 80, 90, 100]\n",
        "moving_window(a,3)\n",
        "print(\"\\n\\n\\n\")\n",
        "moving_window(b,4)"
      ],
      "execution_count": 18,
      "outputs": [
        {
          "output_type": "stream",
          "text": [
            "[  5.           4.66666667   5.66666667   6.66666667   9.66666667\n",
            "  28.66666667  49.33333333  72.66666667  84.          93.33333333\n",
            " 116.33333333]\n",
            "\n",
            "moving average sequence value is :  11\n",
            "\n",
            "\n",
            "\n",
            "\n",
            "[25. 35. 45. 55. 65. 75. 85.]\n",
            "\n",
            "moving average sequence value is :  7\n"
          ],
          "name": "stdout"
        }
      ]
    },
    {
      "cell_type": "code",
      "metadata": {
        "id": "YNLZAZAuGFfy",
        "colab_type": "code",
        "colab": {}
      },
      "source": [
        ""
      ],
      "execution_count": null,
      "outputs": []
    }
  ]
}