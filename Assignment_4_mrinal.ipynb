{
  "nbformat": 4,
  "nbformat_minor": 0,
  "metadata": {
    "colab": {
      "name": "Assignment_4_mrinal.ipynb",
      "provenance": [],
      "collapsed_sections": [],
      "authorship_tag": "ABX9TyPOTnRvxY/hmrcaQZgxGjgF",
      "include_colab_link": true
    },
    "kernelspec": {
      "name": "python3",
      "display_name": "Python 3"
    }
  },
  "cells": [
    {
      "cell_type": "markdown",
      "metadata": {
        "id": "view-in-github",
        "colab_type": "text"
      },
      "source": [
        "<a href=\"https://colab.research.google.com/github/mrinalkhalder10/mrinal_Assignments/blob/master/Assignment_4_mrinal.ipynb\" target=\"_parent\"><img src=\"https://colab.research.google.com/assets/colab-badge.svg\" alt=\"Open In Colab\"/></a>"
      ]
    },
    {
      "cell_type": "code",
      "metadata": {
        "id": "KpSHwJewD5UU",
        "colab_type": "code",
        "colab": {}
      },
      "source": [
        ""
      ],
      "execution_count": null,
      "outputs": []
    },
    {
      "cell_type": "markdown",
      "metadata": {
        "id": "E3RTZHmKG4bs",
        "colab_type": "text"
      },
      "source": [
        "## Assignment 4"
      ]
    },
    {
      "cell_type": "markdown",
      "metadata": {
        "id": "eaXRYPO5D6Z_",
        "colab_type": "text"
      },
      "source": [
        "**1.1 Write a Python Program(with class concepts) to find the area of the triangle using the below\n",
        "formula.\n",
        "area = (s*(s-a)*(s-b)*(s-c)) ** 0.5\n",
        "Function to take the length of the sides of triangle from user should be defined in the parent\n",
        "class and function to calculate the area should be defined in subclass.** "
      ]
    },
    {
      "cell_type": "code",
      "metadata": {
        "id": "azjd47o-EHMt",
        "colab_type": "code",
        "colab": {
          "base_uri": "https://localhost:8080/",
          "height": 50
        },
        "outputId": "0913e9ec-b374-4152-9c2d-5ad2b54f4b4e"
      },
      "source": [
        "class Triangle:\n",
        "    def __init__(self,side1,side2,side3):\n",
        "        self.side1 = side1\n",
        "        self.side2 = side2\n",
        "        self.side3 = side3\n",
        "        \n",
        "    def area_triangle(a,s1,s2,s3):\n",
        "        s = (s1 + s2 + s3) * 0.5\n",
        "        area = (s*(s - a.side1)*(s - a.side2)*(s - a.side3)) ** 0.5\n",
        "        return area\n",
        "    \n",
        "    def __str__(b):\n",
        "        return \"The Sides of a Triangle are %d , %d , %d \" %(b.side1, b.side2, b.side3)\n",
        "         \n",
        "    \n",
        "    \n",
        "Sides = Triangle(3,5,4)\n",
        "print(Sides)\n",
        "print(Sides.area_triangle(3,5,4))"
      ],
      "execution_count": 8,
      "outputs": [
        {
          "output_type": "stream",
          "text": [
            "The Sides of a Triangle are 3 , 5 , 4 \n",
            "6.0\n"
          ],
          "name": "stdout"
        }
      ]
    },
    {
      "cell_type": "code",
      "metadata": {
        "id": "4MuJl1C7EMnl",
        "colab_type": "code",
        "colab": {}
      },
      "source": [
        ""
      ],
      "execution_count": null,
      "outputs": []
    },
    {
      "cell_type": "markdown",
      "metadata": {
        "id": "kUoq-26oGJJu",
        "colab_type": "text"
      },
      "source": [
        "**1.2 Write a function filter_long_words() that takes a list of words and an integer n and returns\n",
        "the list of words that are longer than n.**"
      ]
    },
    {
      "cell_type": "code",
      "metadata": {
        "id": "SLy0sp2yGQSW",
        "colab_type": "code",
        "colab": {
          "base_uri": "https://localhost:8080/",
          "height": 34
        },
        "outputId": "1d0d1d03-e5c1-4bd2-ecbf-689221896880"
      },
      "source": [
        "def filter_long_words(name_list, num):\n",
        "    l2 = []\n",
        "    for i in range(0,len(name_list)):\n",
        "        if len(name_list[i]) > num:\n",
        "            l2.append(name_list[i])\n",
        "    return l2\n",
        "\n",
        "filter_long_words([\"mrinal\", \"foddy\", \"no\", \"is\",\"t\",\"toy\"],2)"
      ],
      "execution_count": 9,
      "outputs": [
        {
          "output_type": "execute_result",
          "data": {
            "text/plain": [
              "['mrinal', 'foddy', 'toy']"
            ]
          },
          "metadata": {
            "tags": []
          },
          "execution_count": 9
        }
      ]
    },
    {
      "cell_type": "code",
      "metadata": {
        "id": "AmvNQR2xGTd2",
        "colab_type": "code",
        "colab": {}
      },
      "source": [
        ""
      ],
      "execution_count": null,
      "outputs": []
    },
    {
      "cell_type": "markdown",
      "metadata": {
        "id": "tYD5qEsQGVLc",
        "colab_type": "text"
      },
      "source": [
        "**2.1 Write a Python program using function concept that maps list of words into a list of integers\n",
        "representing the lengths of the corresponding words.\n",
        "Hint: If a list [ ab,cde,erty] is passed on to the python function output should come as [2,3,4]\n",
        "Here 2,3 and 4 are the lengths of the words in the list.**"
      ]
    },
    {
      "cell_type": "code",
      "metadata": {
        "id": "f3zVBGFPGZdh",
        "colab_type": "code",
        "colab": {
          "base_uri": "https://localhost:8080/",
          "height": 50
        },
        "outputId": "c37c1abe-70b1-4de1-9828-cfdaf043c72f"
      },
      "source": [
        "def String_Count(name_list):\n",
        "    l2 = []\n",
        "    for i in range(0,len(name_list)):\n",
        "        count = len(name_list[i])\n",
        "        l2.append(count)\n",
        "    return l2\n",
        "\n",
        "##  OR\n",
        "\n",
        "def return_count(lst):\n",
        "    return len(lst)\n",
        "\n",
        "\n",
        "name_list = [\"mrinal\", \"foddy\", \"no\", \"is\",\"t\",\"toy\",\"his\",\"Geography\"]\n",
        "print(String_Count(name_list))\n",
        "print(list(map(return_count, name_list)))"
      ],
      "execution_count": 10,
      "outputs": [
        {
          "output_type": "stream",
          "text": [
            "[6, 5, 2, 2, 1, 3, 3, 9]\n",
            "[6, 5, 2, 2, 1, 3, 3, 9]\n"
          ],
          "name": "stdout"
        }
      ]
    },
    {
      "cell_type": "code",
      "metadata": {
        "id": "GEtXTqx-GdgB",
        "colab_type": "code",
        "colab": {}
      },
      "source": [
        ""
      ],
      "execution_count": null,
      "outputs": []
    },
    {
      "cell_type": "markdown",
      "metadata": {
        "id": "gmrU9jxnGq5r",
        "colab_type": "text"
      },
      "source": [
        "**2.2 Write a Python function which takes a character (i.e. a string of length 1) and returns True if\n",
        "it is a vowel, False otherwise.**"
      ]
    },
    {
      "cell_type": "code",
      "metadata": {
        "id": "BgWIrC9NGr34",
        "colab_type": "code",
        "colab": {
          "base_uri": "https://localhost:8080/",
          "height": 50
        },
        "outputId": "6979d91e-3b6a-401e-a5ba-e6ff4c2b1105"
      },
      "source": [
        "def vowel_check(st):\n",
        "    if st in ('A','E','I','O','U','a' , 'e' , 'i' , 'o' , 'u'):\n",
        "        print(\"True\")\n",
        "    else:\n",
        "        print(\"False\")\n",
        "        \n",
        "vowel_check('E')\n",
        "vowel_check('g')"
      ],
      "execution_count": 12,
      "outputs": [
        {
          "output_type": "stream",
          "text": [
            "True\n",
            "False\n"
          ],
          "name": "stdout"
        }
      ]
    },
    {
      "cell_type": "code",
      "metadata": {
        "id": "agW_vqK3GvWM",
        "colab_type": "code",
        "colab": {}
      },
      "source": [
        ""
      ],
      "execution_count": null,
      "outputs": []
    }
  ]
}