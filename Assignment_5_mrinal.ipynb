{
  "nbformat": 4,
  "nbformat_minor": 0,
  "metadata": {
    "colab": {
      "name": "Assignment_5_mrinal.ipynb",
      "provenance": [],
      "collapsed_sections": [],
      "authorship_tag": "ABX9TyNMCv2XnihT4FlLvGqFu3e8",
      "include_colab_link": true
    },
    "kernelspec": {
      "name": "python3",
      "display_name": "Python 3"
    }
  },
  "cells": [
    {
      "cell_type": "markdown",
      "metadata": {
        "id": "view-in-github",
        "colab_type": "text"
      },
      "source": [
        "<a href=\"https://colab.research.google.com/github/mrinalkhalder10/mrinal_Assignments/blob/master/Assignment_5_mrinal.ipynb\" target=\"_parent\"><img src=\"https://colab.research.google.com/assets/colab-badge.svg\" alt=\"Open In Colab\"/></a>"
      ]
    },
    {
      "cell_type": "code",
      "metadata": {
        "id": "N8UrNDeqSduw",
        "colab_type": "code",
        "colab": {}
      },
      "source": [
        ""
      ],
      "execution_count": null,
      "outputs": []
    },
    {
      "cell_type": "markdown",
      "metadata": {
        "id": "IqLSLJ03Sigb",
        "colab_type": "text"
      },
      "source": [
        "**1. Write a function to compute 5/0 and use try/except to catch the exceptions.**"
      ]
    },
    {
      "cell_type": "code",
      "metadata": {
        "id": "Ah-uJcTqSlNm",
        "colab_type": "code",
        "colab": {
          "base_uri": "https://localhost:8080/",
          "height": 67
        },
        "outputId": "728560b6-cf7f-46d4-897e-76fb22b6fda7"
      },
      "source": [
        "def div_num():\n",
        "    try:\n",
        "        a = int(input(\"Enter any number: \"))\n",
        "        b = int(input(\"Enter another number: \"))\n",
        "        Result = a/b\n",
        "        print(\"The Result is : \", Result)\n",
        "    except(IOError, ValueError,ZeroDivisionError ,SyntaxError, SystemError, FileNotFoundError):\n",
        "        print(\"Second number is Zero so not divisible\")\n",
        "    else:\n",
        "        print(\"Division is done correctly!!\")\n",
        "\n",
        "div_num()"
      ],
      "execution_count": 1,
      "outputs": [
        {
          "output_type": "stream",
          "text": [
            "Enter any number: 5\n",
            "Enter another number: 0\n",
            "Second number is Zero so not divisible\n"
          ],
          "name": "stdout"
        }
      ]
    },
    {
      "cell_type": "markdown",
      "metadata": {
        "id": "3NZ1hOQAS-tc",
        "colab_type": "text"
      },
      "source": [
        "**2. Implement a Python program to generate all sentences where subject is in\n",
        "[\"Americans\", \"Indians\"] and verb is in [\"Play\", \"watch\"] and the object is in\n",
        "[\"Baseball\",\"cricket\"].\n",
        "Hint: Subject,Verb and Object should be declared in the program as shown below.\n",
        "subjects=[\"Americans \",\"Indians\"]\n",
        "verbs=[\"play\",\"watch\"]\n",
        "objects=[\"Baseball\",\"Cricket\"]\n",
        "Output should come as below:\n",
        "Americans play Baseball.\n",
        "Americans play Cricket.\n",
        "Americans watch Baseball.\n",
        "Americans watch Cricket.\n",
        "Indians play Baseball.\n",
        "Indians play Cricket.\n",
        "Indians watch Baseball.\n",
        "Indians watch Cricket.**"
      ]
    },
    {
      "cell_type": "code",
      "metadata": {
        "id": "T_SmD1u5S1hb",
        "colab_type": "code",
        "colab": {
          "base_uri": "https://localhost:8080/",
          "height": 151
        },
        "outputId": "efca6b4b-5c38-404f-c429-b25f3ce7bac9"
      },
      "source": [
        "def Write_Sentence():\n",
        "    subjects=[\"Americans \",\"Indians\"]\n",
        "    verbs=[\"play\",\"watch\"]\n",
        "    objects=[\"Baseball\",\"Cricket\"]\n",
        "    l = []\n",
        "    try:\n",
        "        for i in subjects:\n",
        "            for j in verbs:\n",
        "                c = i + ' ' + j\n",
        "                for k in objects:\n",
        "                    d = c + ' ' + k\n",
        "                    l.append(d)\n",
        "        print(*l, sep=\"\\n\")\n",
        "    except Exception as e:\n",
        "        print(\"There is some code error : \", e)\n",
        "\n",
        "\n",
        "Write_Sentence()\n",
        "        \n",
        "        "
      ],
      "execution_count": 3,
      "outputs": [
        {
          "output_type": "stream",
          "text": [
            "Americans  play Baseball\n",
            "Americans  play Cricket\n",
            "Americans  watch Baseball\n",
            "Americans  watch Cricket\n",
            "Indians play Baseball\n",
            "Indians play Cricket\n",
            "Indians watch Baseball\n",
            "Indians watch Cricket\n"
          ],
          "name": "stdout"
        }
      ]
    },
    {
      "cell_type": "code",
      "metadata": {
        "id": "XL-3QvyMTNJp",
        "colab_type": "code",
        "colab": {}
      },
      "source": [
        ""
      ],
      "execution_count": null,
      "outputs": []
    }
  ]
}