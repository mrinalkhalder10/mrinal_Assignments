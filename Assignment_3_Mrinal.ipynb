{
  "nbformat": 4,
  "nbformat_minor": 0,
  "metadata": {
    "colab": {
      "name": "Assignment_3_Mrinal.ipynb",
      "provenance": [],
      "collapsed_sections": [],
      "authorship_tag": "ABX9TyP2EgYcacayYNBtLDOwhGgp",
      "include_colab_link": true
    },
    "kernelspec": {
      "name": "python3",
      "display_name": "Python 3"
    }
  },
  "cells": [
    {
      "cell_type": "markdown",
      "metadata": {
        "id": "view-in-github",
        "colab_type": "text"
      },
      "source": [
        "<a href=\"https://colab.research.google.com/github/mrinalkhalder10/mrinal_Assignments/blob/master/Assignment_3_Mrinal.ipynb\" target=\"_parent\"><img src=\"https://colab.research.google.com/assets/colab-badge.svg\" alt=\"Open In Colab\"/></a>"
      ]
    },
    {
      "cell_type": "code",
      "metadata": {
        "id": "ITIfVjin4Fsi",
        "colab_type": "code",
        "colab": {}
      },
      "source": [
        ""
      ],
      "execution_count": null,
      "outputs": []
    },
    {
      "cell_type": "markdown",
      "metadata": {
        "id": "SXFc0JQX4Jcp",
        "colab_type": "text"
      },
      "source": [
        "**1.1 Write a Python Program to implement your own myreduce() function which works exactly like Python's built-in function reduce()**"
      ]
    },
    {
      "cell_type": "code",
      "metadata": {
        "id": "Dc-XQWl04TFn",
        "colab_type": "code",
        "colab": {
          "base_uri": "https://localhost:8080/",
          "height": 34
        },
        "outputId": "999d000d-b3c5-4077-ef0c-49f7293a5258"
      },
      "source": [
        "#Write a Python Program to implement your own myreduce() function which works exactly like Python's built-in function reduce()\n",
        "\n",
        "#Writing a function to test my_reduce function and creating a list\n",
        "max_find = lambda a,b: a if (a > b) else b\n",
        "lst =[47,11,42,13]\n",
        "\n",
        "def my_reduce(funct1,itemlist3):\n",
        "    c = 0\n",
        "    for i in range(0, len(itemlist3)-1):\n",
        "        if i == 0:\n",
        "            j = 1\n",
        "            t = funct1(itemlist3[i], itemlist3[j])\n",
        "            c = t\n",
        "        else:\n",
        "            j = j + 1\n",
        "            c = funct1(c, itemlist3[j])\n",
        "    return c \n",
        "\n",
        "#Testing my_reduce function\n",
        "my_reduce(max_find,lst)"
      ],
      "execution_count": 1,
      "outputs": [
        {
          "output_type": "execute_result",
          "data": {
            "text/plain": [
              "47"
            ]
          },
          "metadata": {
            "tags": []
          },
          "execution_count": 1
        }
      ]
    },
    {
      "cell_type": "code",
      "metadata": {
        "id": "7ucSPH5y4chb",
        "colab_type": "code",
        "colab": {}
      },
      "source": [
        ""
      ],
      "execution_count": null,
      "outputs": []
    },
    {
      "cell_type": "markdown",
      "metadata": {
        "id": "E9UQ00iW4foT",
        "colab_type": "text"
      },
      "source": [
        "**1.2 Write a Python program to implement your own myfilter() function which works exactly like Python's built-in function filter()**"
      ]
    },
    {
      "cell_type": "code",
      "metadata": {
        "id": "7lSjzmvM4lop",
        "colab_type": "code",
        "colab": {
          "base_uri": "https://localhost:8080/",
          "height": 34
        },
        "outputId": "14bb6e89-c811-4675-90c4-f2409bc80465"
      },
      "source": [
        "## Write a Python program to implement your own myfilter() function which works exactly like Python's built-in function filter()\n",
        "\n",
        "## first creating a simple get even function and a list of numbers\n",
        "def get_even(num):\n",
        "    if num%2 == 0:\n",
        "        return True\n",
        "    \n",
        "filter_list = [1,21,3,42,5,66,7,8,90,20,24,27,28]\n",
        "\n",
        "## my_filter function\n",
        "def my_filter(funct,itemlist2):\n",
        "    list2 = []\n",
        "    for i in itemlist2:\n",
        "        res = funct(i)\n",
        "        if res == True:\n",
        "            list2.append(i)\n",
        "    yield list2\n",
        "    \n",
        "## Calling my_filter function\n",
        "list(my_filter(get_even, filter_list))"
      ],
      "execution_count": 2,
      "outputs": [
        {
          "output_type": "execute_result",
          "data": {
            "text/plain": [
              "[[42, 66, 8, 90, 20, 24, 28]]"
            ]
          },
          "metadata": {
            "tags": []
          },
          "execution_count": 2
        }
      ]
    },
    {
      "cell_type": "code",
      "metadata": {
        "id": "PVJOihyl4qfb",
        "colab_type": "code",
        "colab": {}
      },
      "source": [
        ""
      ],
      "execution_count": null,
      "outputs": []
    },
    {
      "cell_type": "markdown",
      "metadata": {
        "id": "bNOxLzeQ4wgC",
        "colab_type": "text"
      },
      "source": [
        "***Write List comprehensions to produce the following Lists***"
      ]
    },
    {
      "cell_type": "code",
      "metadata": {
        "id": "x47iEbph4yxS",
        "colab_type": "code",
        "colab": {}
      },
      "source": [
        ""
      ],
      "execution_count": null,
      "outputs": []
    },
    {
      "cell_type": "markdown",
      "metadata": {
        "id": "KV4RyLHe43j1",
        "colab_type": "text"
      },
      "source": [
        "**['x', 'xx', 'xxx', 'xxxx', 'y', 'yy', 'yyy', 'yyyy', 'z', 'zz', 'zzz', 'zzzz']**"
      ]
    },
    {
      "cell_type": "code",
      "metadata": {
        "id": "FcSqjdAW45s0",
        "colab_type": "code",
        "colab": {
          "base_uri": "https://localhost:8080/",
          "height": 34
        },
        "outputId": "87f96275-95cb-4cc8-dad1-02b8c4d625db"
      },
      "source": [
        "print([i*j for i in [\"x\",\"y\",\"z\"] for j in range(1,len([\"x\",\"y\",\"z\"])+2)])"
      ],
      "execution_count": 3,
      "outputs": [
        {
          "output_type": "stream",
          "text": [
            "['x', 'xx', 'xxx', 'xxxx', 'y', 'yy', 'yyy', 'yyyy', 'z', 'zz', 'zzz', 'zzzz']\n"
          ],
          "name": "stdout"
        }
      ]
    },
    {
      "cell_type": "code",
      "metadata": {
        "id": "p7Hk4JGe49l7",
        "colab_type": "code",
        "colab": {}
      },
      "source": [
        ""
      ],
      "execution_count": null,
      "outputs": []
    },
    {
      "cell_type": "markdown",
      "metadata": {
        "id": "Utum9FWK5AIM",
        "colab_type": "text"
      },
      "source": [
        "**['x', 'y', 'z', 'xx', 'yy', 'zz', 'xxx', 'yyy', 'zzz', 'xxxx', 'yyyy', 'zzzz']**"
      ]
    },
    {
      "cell_type": "code",
      "metadata": {
        "id": "m2UPAsos5Ftt",
        "colab_type": "code",
        "colab": {
          "base_uri": "https://localhost:8080/",
          "height": 34
        },
        "outputId": "6db3560f-8291-45a3-ca5a-c0e2e0b94fac"
      },
      "source": [
        "print([i*j for j in range(1,len([\"x\",\"y\",\"z\"])+2) for i in [\"x\",\"y\",\"z\"]])"
      ],
      "execution_count": 4,
      "outputs": [
        {
          "output_type": "stream",
          "text": [
            "['x', 'y', 'z', 'xx', 'yy', 'zz', 'xxx', 'yyy', 'zzz', 'xxxx', 'yyyy', 'zzzz']\n"
          ],
          "name": "stdout"
        }
      ]
    },
    {
      "cell_type": "code",
      "metadata": {
        "id": "6FBWQjBh5IYS",
        "colab_type": "code",
        "colab": {}
      },
      "source": [
        ""
      ],
      "execution_count": null,
      "outputs": []
    },
    {
      "cell_type": "markdown",
      "metadata": {
        "id": "F2nxBXig5MCD",
        "colab_type": "text"
      },
      "source": [
        "**[[2], [3], [4], [3], [4], [5], [4], [5], [6]]**"
      ]
    },
    {
      "cell_type": "code",
      "metadata": {
        "id": "4wn_OBuK5PtX",
        "colab_type": "code",
        "colab": {
          "base_uri": "https://localhost:8080/",
          "height": 34
        },
        "outputId": "337d8a8f-d784-4b34-e23c-e28ae0e4a086"
      },
      "source": [
        "print([[i+j] for i in range(2,5) for j in range(3)])"
      ],
      "execution_count": 5,
      "outputs": [
        {
          "output_type": "stream",
          "text": [
            "[[2], [3], [4], [3], [4], [5], [4], [5], [6]]\n"
          ],
          "name": "stdout"
        }
      ]
    },
    {
      "cell_type": "code",
      "metadata": {
        "id": "mxGdXt525RoU",
        "colab_type": "code",
        "colab": {}
      },
      "source": [
        ""
      ],
      "execution_count": null,
      "outputs": []
    },
    {
      "cell_type": "markdown",
      "metadata": {
        "id": "vdCl2oDn5S89",
        "colab_type": "text"
      },
      "source": [
        "**[[2, 3, 4, 5], [3, 4, 5, 6],[4, 5, 6, 7], [5, 6, 7, 8]]**"
      ]
    },
    {
      "cell_type": "code",
      "metadata": {
        "id": "ypU6aX5x5Zzx",
        "colab_type": "code",
        "colab": {
          "base_uri": "https://localhost:8080/",
          "height": 34
        },
        "outputId": "bbbd1885-5875-4c4a-841b-623461b39c50"
      },
      "source": [
        "print([[i+j,i+j+1,i+j+2,i+j+3] for i in range(2,6) for j in range(1)])"
      ],
      "execution_count": 6,
      "outputs": [
        {
          "output_type": "stream",
          "text": [
            "[[2, 3, 4, 5], [3, 4, 5, 6], [4, 5, 6, 7], [5, 6, 7, 8]]\n"
          ],
          "name": "stdout"
        }
      ]
    },
    {
      "cell_type": "code",
      "metadata": {
        "id": "2DgdQ4UW5fGp",
        "colab_type": "code",
        "colab": {}
      },
      "source": [
        ""
      ],
      "execution_count": null,
      "outputs": []
    },
    {
      "cell_type": "markdown",
      "metadata": {
        "id": "q_tAOVMi5kAa",
        "colab_type": "text"
      },
      "source": [
        "**[(1, 1), (2, 1), (3, 1), (1, 2), (2, 2), (3, 2), (1, 3), (2, 3), (3, 3)]**"
      ]
    },
    {
      "cell_type": "code",
      "metadata": {
        "id": "QIFx02iV5l6Q",
        "colab_type": "code",
        "colab": {
          "base_uri": "https://localhost:8080/",
          "height": 34
        },
        "outputId": "ffb485e9-20c6-4f4d-b972-2bb0985d2367"
      },
      "source": [
        "print([(j,i) for i in range(1,4) for j in range(1,4)] )"
      ],
      "execution_count": 7,
      "outputs": [
        {
          "output_type": "stream",
          "text": [
            "[(1, 1), (2, 1), (3, 1), (1, 2), (2, 2), (3, 2), (1, 3), (2, 3), (3, 3)]\n"
          ],
          "name": "stdout"
        }
      ]
    },
    {
      "cell_type": "code",
      "metadata": {
        "id": "T_v7th5d5oKA",
        "colab_type": "code",
        "colab": {}
      },
      "source": [
        ""
      ],
      "execution_count": null,
      "outputs": []
    }
  ]
}