{
  "nbformat": 4,
  "nbformat_minor": 0,
  "metadata": {
    "colab": {
      "name": "Assignment_2.ipynb",
      "provenance": [],
      "authorship_tag": "ABX9TyOExplVHisNGyLQBRN+07xh",
      "include_colab_link": true
    },
    "kernelspec": {
      "name": "python3",
      "display_name": "Python 3"
    }
  },
  "cells": [
    {
      "cell_type": "markdown",
      "metadata": {
        "id": "view-in-github",
        "colab_type": "text"
      },
      "source": [
        "<a href=\"https://colab.research.google.com/github/mrinalkhalder10/mrinal_Assignments/blob/master/Assignment_2.ipynb\" target=\"_parent\"><img src=\"https://colab.research.google.com/assets/colab-badge.svg\" alt=\"Open In Colab\"/></a>"
      ]
    },
    {
      "cell_type": "code",
      "metadata": {
        "id": "2zdFy8nmJQCz",
        "colab_type": "code",
        "colab": {}
      },
      "source": [
        ""
      ],
      "execution_count": null,
      "outputs": []
    },
    {
      "cell_type": "markdown",
      "metadata": {
        "id": "RbpllDR4JSWI",
        "colab_type": "text"
      },
      "source": [
        "**1: Create Pattern using nested for loop in python.**"
      ]
    },
    {
      "cell_type": "code",
      "metadata": {
        "id": "ducVfEgYJaWX",
        "colab_type": "code",
        "colab": {}
      },
      "source": [
        "def star_pattern(n):\n",
        "    for i in range(n):\n",
        "        for j in range(0, i+1):\n",
        "            print(\"*\", end=\"\")\n",
        "        print()\n",
        "    for i in range(n-1):\n",
        "        for k in range(i,n-1):\n",
        "            print(\"*\", end=\"\")\n",
        "        print()"
      ],
      "execution_count": 1,
      "outputs": []
    },
    {
      "cell_type": "code",
      "metadata": {
        "id": "eDtrKw3oJk5T",
        "colab_type": "code",
        "colab": {
          "base_uri": "https://localhost:8080/",
          "height": 168
        },
        "outputId": "0eb390a5-c1dc-4867-e9d5-5fa7edeaba27"
      },
      "source": [
        "star_pattern(5)"
      ],
      "execution_count": 4,
      "outputs": [
        {
          "output_type": "stream",
          "text": [
            "*\n",
            "**\n",
            "***\n",
            "****\n",
            "*****\n",
            "****\n",
            "***\n",
            "**\n",
            "*\n"
          ],
          "name": "stdout"
        }
      ]
    },
    {
      "cell_type": "code",
      "metadata": {
        "id": "3_g4C04TJnye",
        "colab_type": "code",
        "colab": {}
      },
      "source": [
        ""
      ],
      "execution_count": null,
      "outputs": []
    },
    {
      "cell_type": "markdown",
      "metadata": {
        "id": "ek99jmf4Jv0z",
        "colab_type": "text"
      },
      "source": [
        "**2: Write a python program to reverse a word after accepting the input from user.**"
      ]
    },
    {
      "cell_type": "code",
      "metadata": {
        "id": "BXOOIHL9KAMf",
        "colab_type": "code",
        "colab": {
          "base_uri": "https://localhost:8080/",
          "height": 50
        },
        "outputId": "66c5db99-1bdb-49e3-dae5-79601f6b1d0b"
      },
      "source": [
        "word = str(input(\"Enter any single word : \"))\n",
        "l=[]\n",
        "p=list(word)\n",
        "l=p[::-1]\n",
        "print(\"The Reverse Word is : \",\"\".join(l))"
      ],
      "execution_count": 5,
      "outputs": [
        {
          "output_type": "stream",
          "text": [
            "Enter any single word : ineuron\n",
            "The Reverse Word is :  norueni\n"
          ],
          "name": "stdout"
        }
      ]
    },
    {
      "cell_type": "code",
      "metadata": {
        "id": "72jFGJHWKDQ6",
        "colab_type": "code",
        "colab": {}
      },
      "source": [
        ""
      ],
      "execution_count": null,
      "outputs": []
    }
  ]
}