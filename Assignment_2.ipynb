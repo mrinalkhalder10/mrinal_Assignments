{
  "nbformat": 4,
  "nbformat_minor": 0,
  "metadata": {
    "colab": {
      "name": "Assignment_2.ipynb",
      "provenance": [],
      "authorship_tag": "ABX9TyPApG0DXPWzRCAxqN8gReqv",
      "include_colab_link": true
    },
    "kernelspec": {
      "name": "python3",
      "display_name": "Python 3"
    }
  },
  "cells": [
    {
      "cell_type": "markdown",
      "metadata": {
        "id": "view-in-github",
        "colab_type": "text"
      },
      "source": [
        "<a href=\"https://colab.research.google.com/github/mrinalkhalder10/mrinal_Assignments/blob/master/Assignment_2.ipynb\" target=\"_parent\"><img src=\"https://colab.research.google.com/assets/colab-badge.svg\" alt=\"Open In Colab\"/></a>"
      ]
    },
    {
      "cell_type": "code",
      "metadata": {
        "id": "8LwvhyM1LLp4",
        "colab_type": "code",
        "colab": {}
      },
      "source": [
        ""
      ],
      "execution_count": null,
      "outputs": []
    },
    {
      "cell_type": "markdown",
      "metadata": {
        "id": "fxwj0ioFLRqk",
        "colab_type": "text"
      },
      "source": [
        "**1: Create Pattern using nested for loop in python.**"
      ]
    },
    {
      "cell_type": "code",
      "metadata": {
        "id": "1PZpwLMSLTD1",
        "colab_type": "code",
        "colab": {}
      },
      "source": [
        "def star_pattern(n):\n",
        "    for i in range(n):\n",
        "        for j in range(0, i+1):\n",
        "            print(\"*\", end=\"\")\n",
        "        print()\n",
        "    for i in range(n-1):\n",
        "        for k in range(i,n-1):\n",
        "            print(\"*\", end=\"\")\n",
        "        print()"
      ],
      "execution_count": 1,
      "outputs": []
    },
    {
      "cell_type": "code",
      "metadata": {
        "id": "cSRdy7hVLWo_",
        "colab_type": "code",
        "colab": {
          "base_uri": "https://localhost:8080/",
          "height": 168
        },
        "outputId": "7e0a2fa8-7173-4444-f452-a2abc12847b3"
      },
      "source": [
        "star_pattern(5)"
      ],
      "execution_count": 2,
      "outputs": [
        {
          "output_type": "stream",
          "text": [
            "*\n",
            "**\n",
            "***\n",
            "****\n",
            "*****\n",
            "****\n",
            "***\n",
            "**\n",
            "*\n"
          ],
          "name": "stdout"
        }
      ]
    },
    {
      "cell_type": "code",
      "metadata": {
        "id": "FG0_lHnhLZcZ",
        "colab_type": "code",
        "colab": {}
      },
      "source": [
        ""
      ],
      "execution_count": null,
      "outputs": []
    },
    {
      "cell_type": "markdown",
      "metadata": {
        "id": "EDVVxhrFLc1q",
        "colab_type": "text"
      },
      "source": [
        "**2: Write a python program to reverse a word after accepting the input from user.**"
      ]
    },
    {
      "cell_type": "code",
      "metadata": {
        "id": "nzhpSbUBLen9",
        "colab_type": "code",
        "colab": {
          "base_uri": "https://localhost:8080/",
          "height": 50
        },
        "outputId": "fa4d4ea3-3506-44c8-bc8e-9fa386551f28"
      },
      "source": [
        "word = str(input(\"Enter any single word : \"))\n",
        "l=[]\n",
        "p=list(word)\n",
        "l=p[::-1]\n",
        "print(\"The Reverse Word is : \",\"\".join(l))"
      ],
      "execution_count": 3,
      "outputs": [
        {
          "output_type": "stream",
          "text": [
            "Enter any single word : ineuron\n",
            "The Reverse Word is :  norueni\n"
          ],
          "name": "stdout"
        }
      ]
    },
    {
      "cell_type": "code",
      "metadata": {
        "id": "xpPXhe1MLljp",
        "colab_type": "code",
        "colab": {}
      },
      "source": [
        ""
      ],
      "execution_count": null,
      "outputs": []
    }
  ]
}